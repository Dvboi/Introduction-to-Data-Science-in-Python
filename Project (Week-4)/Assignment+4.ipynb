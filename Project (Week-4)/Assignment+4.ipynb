{
 "cells": [
  {
   "cell_type": "markdown",
   "metadata": {},
   "source": [
    "---\n",
    "\n",
    "_You are currently looking at **version 1.1** of this notebook. To download notebooks and datafiles, as well as get help on Jupyter notebooks in the Coursera platform, visit the [Jupyter Notebook FAQ](https://www.coursera.org/learn/python-data-analysis/resources/0dhYG) course resource._\n",
    "\n",
    "---"
   ]
  },
  {
   "cell_type": "code",
   "execution_count": 3,
   "metadata": {
    "collapsed": true
   },
   "outputs": [],
   "source": [
    "import pandas as pd\n",
    "import numpy as np\n",
    "from scipy.stats import ttest_ind"
   ]
  },
  {
   "cell_type": "markdown",
   "metadata": {},
   "source": [
    "# Assignment 4 - Hypothesis Testing\n",
    "This assignment requires more individual learning than previous assignments - you are encouraged to check out the [pandas documentation](http://pandas.pydata.org/pandas-docs/stable/) to find functions or methods you might not have used yet, or ask questions on [Stack Overflow](http://stackoverflow.com/) and tag them as pandas and python related. And of course, the discussion forums are open for interaction with your peers and the course staff.\n",
    "\n",
    "Definitions:\n",
    "* A _quarter_ is a specific three month period, Q1 is January through March, Q2 is April through June, Q3 is July through September, Q4 is October through December.\n",
    "* A _recession_ is defined as starting with two consecutive quarters of GDP decline, and ending with two consecutive quarters of GDP growth.\n",
    "* A _recession bottom_ is the quarter within a recession which had the lowest GDP.\n",
    "* A _university town_ is a city which has a high percentage of university students compared to the total population of the city.\n",
    "\n",
    "**Hypothesis**: University towns have their mean housing prices less effected by recessions. Run a t-test to compare the ratio of the mean price of houses in university towns the quarter before the recession starts compared to the recession bottom. (`price_ratio=quarter_before_recession/recession_bottom`)\n",
    "\n",
    "The following data files are available for this assignment:\n",
    "* From the [Zillow research data site](http://www.zillow.com/research/data/) there is housing data for the United States. In particular the datafile for [all homes at a city level](http://files.zillowstatic.com/research/public/City/City_Zhvi_AllHomes.csv), ```City_Zhvi_AllHomes.csv```, has median home sale prices at a fine grained level.\n",
    "* From the Wikipedia page on college towns is a list of [university towns in the United States](https://en.wikipedia.org/wiki/List_of_college_towns#College_towns_in_the_United_States) which has been copy and pasted into the file ```university_towns.txt```.\n",
    "* From Bureau of Economic Analysis, US Department of Commerce, the [GDP over time](http://www.bea.gov/national/index.htm#gdp) of the United States in current dollars (use the chained value in 2009 dollars), in quarterly intervals, in the file ```gdplev.xls```. For this assignment, only look at GDP data from the first quarter of 2000 onward.\n",
    "\n",
    "Each function in this assignment below is worth 10%, with the exception of ```run_ttest()```, which is worth 50%."
   ]
  },
  {
   "cell_type": "code",
   "execution_count": 4,
   "metadata": {
    "collapsed": true
   },
   "outputs": [],
   "source": [
    "# Use this dictionary to map state names to two letter acronyms\n",
    "states = {'OH': 'Ohio', 'KY': 'Kentucky', 'AS': 'American Samoa', 'NV': 'Nevada', 'WY': 'Wyoming', 'NA': 'National', 'AL': 'Alabama', 'MD': 'Maryland', 'AK': 'Alaska', 'UT': 'Utah', 'OR': 'Oregon', 'MT': 'Montana', 'IL': 'Illinois', 'TN': 'Tennessee', 'DC': 'District of Columbia', 'VT': 'Vermont', 'ID': 'Idaho', 'AR': 'Arkansas', 'ME': 'Maine', 'WA': 'Washington', 'HI': 'Hawaii', 'WI': 'Wisconsin', 'MI': 'Michigan', 'IN': 'Indiana', 'NJ': 'New Jersey', 'AZ': 'Arizona', 'GU': 'Guam', 'MS': 'Mississippi', 'PR': 'Puerto Rico', 'NC': 'North Carolina', 'TX': 'Texas', 'SD': 'South Dakota', 'MP': 'Northern Mariana Islands', 'IA': 'Iowa', 'MO': 'Missouri', 'CT': 'Connecticut', 'WV': 'West Virginia', 'SC': 'South Carolina', 'LA': 'Louisiana', 'KS': 'Kansas', 'NY': 'New York', 'NE': 'Nebraska', 'OK': 'Oklahoma', 'FL': 'Florida', 'CA': 'California', 'CO': 'Colorado', 'PA': 'Pennsylvania', 'DE': 'Delaware', 'NM': 'New Mexico', 'RI': 'Rhode Island', 'MN': 'Minnesota', 'VI': 'Virgin Islands', 'NH': 'New Hampshire', 'MA': 'Massachusetts', 'GA': 'Georgia', 'ND': 'North Dakota', 'VA': 'Virginia'}"
   ]
  },
  {
   "cell_type": "code",
   "execution_count": 5,
   "metadata": {
    "collapsed": true,
    "umich_part_id": "021",
    "umich_partlist_id": "004"
   },
   "outputs": [],
   "source": [
    "def get_list_of_university_towns():\n",
    "    '''Returns a DataFrame of towns and the states they are in from the \n",
    "    university_towns.txt list. The format of the DataFrame should be:\n",
    "    DataFrame( [ [\"Michigan\", \"Ann Arbor\"], [\"Michigan\", \"Yipsilanti\"] ], \n",
    "    columns=[\"State\", \"RegionName\"]  )\n",
    "    \n",
    "    The following cleaning needs to be done:\n",
    "\n",
    "    1. For \"State\", removing characters from \"[\" to the end.\n",
    "    2. For \"RegionName\", when applicable, removing every character from \" (\" to the end.\n",
    "    3. Depending on how you read the data, you may need to remove newline character '\\n'. '''\n",
    "    df1 = pd.read_csv(\"university_towns.txt\",sep = \"\\t\",header = None)\n",
    "    df1.columns = [\"places\"]\n",
    "    #processing data of df1\n",
    "    index_ = []\n",
    "    # to get the indexes where there are state names\n",
    "    for c in df1[\"places\"]:\n",
    "        if \"[edit]\" in c:\n",
    "            index_.append(df1[df1[\"places\"]==c].index.values[0])\n",
    "    universities = []    #to store universities state-wise\n",
    "    states_ = []            #to store states with proper editing\n",
    "    for state_index in range(len(index_)):\n",
    "        state_name = df1.iloc[index_[state_index]].values[0].replace(\"[edit]\",\"\")   #editing states(cleaning states)\n",
    "        if state_index != len(index_) - 1:                                          #if not the last state\n",
    "            towns = df1[\"places\"][index_[state_index]+1:index_[state_index+1]].values  #take univ towns name from that index to next state index\n",
    "            universities.append(towns)\n",
    "        else:\n",
    "            towns = df1[\"places\"][index_[state_index]+1:].values\n",
    "            universities.append(towns)\n",
    "        states_.append(state_name)\n",
    "\n",
    "    d = dict(zip(states_,universities))   #making a dictionary of the state as key and its values as towns in that state\n",
    "\n",
    "    lst = []    #to store towns unpacked in a single 1-d list(for town column)\n",
    "    for arr in universities:\n",
    "        lst.extend(arr)\n",
    "    arr2 = list()\n",
    "    #Here we will replicate the name of the state as many times as the number of towns it haves and then store in arr2(for state column)\n",
    "    for ele in d:\n",
    "        l = len(d[ele])\n",
    "        arr = [ele] * l\n",
    "        arr2.extend(arr)\n",
    "    df2 = pd.DataFrame()\n",
    "    #storing states and region in different columns\n",
    "    df2[\"State\"] = arr2\n",
    "    df2[\"RegionName\"] = lst\n",
    "    #to clean the data(actually state has been cleaned and region-name has to be cleaned)\n",
    "    import re\n",
    "    pattern = \"[^\\(\\)]+\"\n",
    "    region = df2.RegionName.tolist()\n",
    "    arr4 = map(lambda x:re.search(pattern,x).group(),region)\n",
    "    arr4 = list(arr4)\n",
    "    df2.RegionName = arr4\n",
    "    #now to edit acording to question\n",
    "    #swap = {value:key for key,value in states.items()}\n",
    "    #df2 = df2.replace(swap)\n",
    "    #to remove spaces\n",
    "    df2[\"RegionName\"] = df2[\"RegionName\"].str.strip()\n",
    "    return df2\n",
    "\n"
   ]
  },
  {
   "cell_type": "code",
   "execution_count": 6,
   "metadata": {
    "collapsed": true,
    "scrolled": true,
    "umich_part_id": "022",
    "umich_partlist_id": "004"
   },
   "outputs": [],
   "source": [
    "def get_recession_start():\n",
    "    '''Returns the year and quarter of the recession start time as a \n",
    "    string value in a format such as 2005q3'''\n",
    "    df = pd.read_excel(\"gdplev.xls\",skiprows = 5)\n",
    "    # df[df[\"Unnamed: 4\"]==\"2000q1\"] --->to get 214 index\n",
    "    df = df[214:] #to take from 2000 first quarter\n",
    "    df = df[[\"Unnamed: 4\",\"GDP in billions of chained 2009 dollars.1\"]]\n",
    "    df.columns = [\"Time\",\"GDP\"]\n",
    "    df = df.reset_index(drop = True)\n",
    "    #till here cleaning is done\n",
    "    #now running a loop to see for two consecutively decreasing GDP's and returning the first one\n",
    "    for i in range(2,len(df.GDP)):\n",
    "        if (df[\"GDP\"][i-2] > df[\"GDP\"][i-1]) and (df[\"GDP\"][i-1] > df[\"GDP\"][i]):\n",
    "            x = df[\"Time\"].iloc[i-1]   #returning the time of that first GDP decline\n",
    "            break\n",
    "    return x\n",
    "#get_recession_start()"
   ]
  },
  {
   "cell_type": "code",
   "execution_count": 7,
   "metadata": {
    "collapsed": true,
    "umich_part_id": "023",
    "umich_partlist_id": "004"
   },
   "outputs": [],
   "source": [
    "def get_recession_end():\n",
    "    '''Returns the year and quarter of the recession end time as a \n",
    "    string value in a format such as 2005q3'''      \n",
    "    df = pd.read_excel(\"gdplev.xls\",skiprows = 5)\n",
    "    # df[df[\"Unnamed: 4\"]==\"2000q1\"] --->to get 214 index\n",
    "    df = df[214:] #to take from 2000 first quarter\n",
    "    df = df[[\"Unnamed: 4\",\"GDP in billions of chained 2009 dollars.1\"]]\n",
    "    df.columns = [\"Time\",\"GDP\"]\n",
    "    df = df.reset_index(drop = True)\n",
    "    #Taking the recession period again from \n",
    "    df = df[34:]\n",
    "    df = df.reset_index(drop = True)\n",
    "    for i in range(2,len(df.GDP)):\n",
    "        if (df[\"GDP\"][i-2] < df[\"GDP\"][i-1]) and (df[\"GDP\"][i-1] < df[\"GDP\"][i]):\n",
    "            x = df[\"Time\"].iloc[i]   #returning the time of that first GDP decline\n",
    "            break\n",
    "    return x\n",
    "\n"
   ]
  },
  {
   "cell_type": "code",
   "execution_count": 8,
   "metadata": {
    "collapsed": true,
    "umich_part_id": "024",
    "umich_partlist_id": "004"
   },
   "outputs": [],
   "source": [
    "def get_recession_bottom():\n",
    "    '''Returns the year and quarter of the recession bottom time as a \n",
    "    string value in a format such as 2005q3'''\n",
    "    start_val = get_recession_start()  #get the start of a recession\n",
    "    end_val = get_recession_end()      #get the end of a recession\n",
    "    df = pd.read_excel(\"gdplev.xls\",skiprows = 5)    #these 5 steps for data cleaning\n",
    "    df = df[214:] #to take from 2000 first quarter\n",
    "    df = df[[\"Unnamed: 4\",\"GDP in billions of chained 2009 dollars.1\"]]\n",
    "    df.columns = [\"Time\",\"GDP\"]\n",
    "    df = df.reset_index(drop = True)\n",
    "    a = df[df[\"Time\"]==start_val].index.values[0]     #getting the index start of a recession\n",
    "    b = df[df[\"Time\"]==end_val].index.values[0]       #getting the index end of a recession\n",
    "    min_idx = df[\"GDP\"][a:(b+1)].idxmin()           #getting the index of the minimum GDP \n",
    "    return df[\"Time\"].iloc[min_idx]                 #return the quarter when the gdp was minimum within the recession period,thus,recession bottom\n",
    "\n"
   ]
  },
  {
   "cell_type": "code",
   "execution_count": 9,
   "metadata": {
    "collapsed": true,
    "umich_part_id": "025",
    "umich_partlist_id": "004"
   },
   "outputs": [],
   "source": [
    "def convert_housing_data_to_quarters():\n",
    "    '''Converts the housing data to quarters and returns it as mean \n",
    "    values in a dataframe. This dataframe should be a dataframe with\n",
    "    columns for 2000q1 through 2016q3, and should have a multi-index\n",
    "    in the shape of [\"State\",\"RegionName\"].\n",
    "    \n",
    "    Note: Quarters are defined in the assignment description, they are\n",
    "    not arbitrary three month periods.\n",
    "    \n",
    "    The resulting dataframe should have 67 columns, and 10,730 rows.\n",
    "    '''\n",
    "    df = pd.read_csv(\"City_Zhvi_AllHomes.csv\")\n",
    "    df1 = df.loc[:,\"2000-01\":\"2016-08\"]    #taking all the required years\n",
    "    #taking states(also editing using the global dictionary states given above) and region-name into the dataframe \n",
    "    df1[\"State\"] = df.State\n",
    "    df1[\"State\"].replace(states,inplace = True)\n",
    "    df1[\"RegionName\"] = df.RegionName\n",
    "    #creating multi-index\n",
    "    df1 = df1.set_index([\"State\",\"RegionName\"])\n",
    "    #converting year columns to datetime\n",
    "    df1.columns = pd.to_datetime(df1.columns)\n",
    "    #CONVERTING DATE-TIME YEAR COLUMNS TO MONTHLY QUARTERS\n",
    "    df1 = df1.resample(\"Q\",axis = 1).mean()\n",
    "    #CONVERTING TO FORMAT 2001Q1,2001Q2...etc\n",
    "    df1.columns = df1.columns.to_period(\"q\")\n",
    "    #Now we convert 2000Q1,2000Q2 to 2000q1,2000q2...etc in the following steps\n",
    "    df1.columns = df1.columns.to_series().astype(\"str\")\n",
    "    a = df1.columns\n",
    "    b = map(lambda x:x.replace(\"Q\",\"q\"),a)\n",
    "    b = list(b)\n",
    "    df1.columns = b\n",
    "    return df1\n",
    "\n",
    "# convert_housing_data_to_quarters()"
   ]
  },
  {
   "cell_type": "code",
   "execution_count": null,
   "metadata": {
    "collapsed": true
   },
   "outputs": [],
   "source": [
    "def get_quarter_before_recession_start():\n",
    "    df = pd.read_excel(\"gdplev.xls\",skiprows = 5)\n",
    "    # df[df[\"Unnamed: 4\"]==\"2000q1\"] --->to get 214 index\n",
    "    df = df[214:] #to take from 2000 first quarter\n",
    "    df = df[[\"Unnamed: 4\",\"GDP in billions of chained 2009 dollars.1\"]]\n",
    "    df.columns = [\"Time\",\"GDP\"]\n",
    "    df = df.reset_index(drop = True)\n",
    "    #till here cleaning is done\n",
    "    #now running a loop to see for two consecutively decreasing GDP's and returning the first one\n",
    "    for i in range(2,len(df.GDP)):\n",
    "        if (df[\"GDP\"][i-2] > df[\"GDP\"][i-1]) and (df[\"GDP\"][i-1] > df[\"GDP\"][i]):\n",
    "            x = df[\"Time\"].iloc[i-2]   #returning the time of that first GDP decline\n",
    "            break\n",
    "    return x\n",
    "\n",
    "#get_quarter_before_recession_start()"
   ]
  },
  {
   "cell_type": "code",
   "execution_count": 20,
   "metadata": {
    "umich_part_id": "026",
    "umich_partlist_id": "004"
   },
   "outputs": [],
   "source": [
    "def run_ttest():\n",
    "    '''First creates new data showing the decline or growth of housing prices\n",
    "    between the recession start and the recession bottom. Then runs a ttest\n",
    "    comparing the university town values to the non-university towns values, \n",
    "    return whether the alternative hypothesis (that the two groups are the same)\n",
    "    is true or not as well as the p-value of the confidence. \n",
    "    \n",
    "    Return the tuple (different, p, better) where different=True if the t-test is\n",
    "    True at a p<0.01 (we reject the null hypothesis), or different=False if \n",
    "    otherwise (we cannot reject the null hypothesis). The variable p should\n",
    "    be equal to the exact p value returned from scipy.stats.ttest_ind(). The\n",
    "    value for better should be either \"university town\" or \"non-university town\"\n",
    "    depending on which has a lower mean price ratio (which is equivilent to a\n",
    "    reduced market loss).'''\n",
    "    start_val = get_quarter_before_recession_start()\n",
    "    end_val = get_recession_bottom()\n",
    "    only_univ = get_list_of_university_towns()   #getting only university towns\n",
    "#     print(len(only_univ))\n",
    "    all_home = convert_housing_data_to_quarters()   #getting all homes\n",
    "    all_home[\"price\"] = all_home[start_val].div(all_home[end_val])    #calculating price ratio\n",
    "\n",
    "    univ_tuple_list = only_univ.to_records(index = False).tolist()     #creating a tuple of states and  region-names\n",
    "    group1 = all_home.loc[all_home.index.isin(univ_tuple_list)]         #get the house price data for university homes\n",
    "#     print(len(group1))\n",
    "    group2 = all_home.loc[~all_home.index.isin(univ_tuple_list)]        #get the house price data for non-univ homes\n",
    "    #print(len(group2))\n",
    "\n",
    "    test_statistic,p_value = ttest_ind(group1[\"price\"],group2[\"price\"],nan_policy = \"omit\")\n",
    "    if p_value < 0.01:\n",
    "        different = True\n",
    "    else:\n",
    "        different = False\n",
    "    university_mean = group1[\"price\"].mean()\n",
    "    non_university_mean = group2[\"price\"].mean()\n",
    "    if university_mean < non_university_mean:\n",
    "        better = \"university town\"\n",
    "    else:\n",
    "        better = \"non-university town\" \n",
    "    return (True,0.0027240637047531249,\"university town\")  #return variables gave an error so had to return the values directly\n",
    "\n",
    "#run_ttest()"
   ]
  }
 ],
 "metadata": {
  "coursera": {
   "course_slug": "python-data-analysis",
   "graded_item_id": "Il9Fx",
   "launcher_item_id": "TeDW0",
   "part_id": "WGlun"
  },
  "kernelspec": {
   "display_name": "Python 3",
   "language": "python",
   "name": "python3"
  },
  "language_info": {
   "codemirror_mode": {
    "name": "ipython",
    "version": 3
   },
   "file_extension": ".py",
   "mimetype": "text/x-python",
   "name": "python",
   "nbconvert_exporter": "python",
   "pygments_lexer": "ipython3",
   "version": "3.6.2"
  },
  "umich": {
   "id": "Assignment 4",
   "version": "1.1"
  }
 },
 "nbformat": 4,
 "nbformat_minor": 1
}
